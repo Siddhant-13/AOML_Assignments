{
 "cells": [
  {
   "cell_type": "code",
   "execution_count": 26,
   "metadata": {},
   "outputs": [],
   "source": [
    "import pandas as pd\n",
    "import numpy as np\n",
    "from sklearn.model_selection import train_test_split\n",
    "from sklearn.preprocessing import StandardScaler, OneHotEncoder\n",
    "from sklearn.neighbors import KNeighborsClassifier\n",
    "from sklearn.tree import DecisionTreeClassifier\n",
    "from sklearn.metrics import accuracy_score\n",
    "from sklearn.pipeline import Pipeline\n",
    "from sklearn.compose import ColumnTransformer\n",
    "from sklearn.metrics import f1_score\n",
    "import joblib"
   ]
  },
  {
   "cell_type": "code",
   "execution_count": 27,
   "metadata": {},
   "outputs": [],
   "source": [
    "data = pd.read_csv('diabetes.csv')"
   ]
  },
  {
   "cell_type": "code",
   "execution_count": 28,
   "metadata": {},
   "outputs": [],
   "source": [
    "def categorize_bmi(bmi):\n",
    "    if bmi < 18.5:\n",
    "        return \"Underweight\"\n",
    "    elif 18.5 <= bmi < 24.9:\n",
    "        return \"Normal weight\"\n",
    "    elif 25 <= bmi < 29.9:\n",
    "        return \"Overweight\"\n",
    "    else:\n",
    "        return \"Obese\"\n",
    "\n",
    "data[\"BMI_category\"] = data[\"BMI\"].apply(categorize_bmi)"
   ]
  },
  {
   "cell_type": "code",
   "execution_count": 29,
   "metadata": {},
   "outputs": [],
   "source": [
    "train_data, val_data = train_test_split(data, test_size=0.2, random_state=42, stratify=data[\"Outcome\"])"
   ]
  },
  {
   "cell_type": "code",
   "execution_count": 30,
   "metadata": {},
   "outputs": [],
   "source": [
    "numeric_features = [\"Pregnancies\", \"Glucose\", \"BloodPressure\", \"SkinThickness\", \"Insulin\", \"BMI\", \"DiabetesPedigreeFunction\", \"Age\"]\n",
    "categorical_features = [\"BMI_category\"]\n",
    "\n",
    "scaler = StandardScaler()\n",
    "one_hot_encoder = OneHotEncoder()\n",
    "\n",
    "preprocessor = ColumnTransformer([\n",
    "    (\"num\", scaler, numeric_features),\n",
    "    (\"cat\", one_hot_encoder, categorical_features)\n",
    "])"
   ]
  },
  {
   "cell_type": "code",
   "execution_count": 31,
   "metadata": {},
   "outputs": [],
   "source": [
    "X_train = preprocessor.fit_transform(train_data.drop(columns=[\"Outcome\"]))\n",
    "X_val = preprocessor.transform(val_data.drop(columns=[\"Outcome\"]))\n",
    "y_train = train_data[\"Outcome\"].values\n",
    "y_val = val_data[\"Outcome\"].values\n"
   ]
  },
  {
   "cell_type": "code",
   "execution_count": 32,
   "metadata": {},
   "outputs": [
    {
     "name": "stdout",
     "output_type": "stream",
     "text": [
      "KNN (k=3) - Accuracy: 0.7013, F1 Score: 0.5577\n",
      "KNN (k=5) - Accuracy: 0.7273, F1 Score: 0.5882\n",
      "KNN (k=7) - Accuracy: 0.7273, F1 Score: 0.5800\n"
     ]
    }
   ],
   "source": [
    "best_knn_f1 = 0\n",
    "best_knn_model = None\n",
    "best_knn_acc = 0\n",
    "for k in [3, 5, 7]:\n",
    "    knn = KNeighborsClassifier(n_neighbors=k)\n",
    "    knn.fit(X_train, y_train)\n",
    "    y_pred = knn.predict(X_val)\n",
    "    f1 = f1_score(y_val, y_pred)\n",
    "    acc = accuracy_score(y_val, y_pred)\n",
    "    print(f\"KNN (k={k}) - Accuracy: {acc:.4f}, F1 Score: {f1:.4f}\")\n",
    "    if f1 > best_knn_f1:\n",
    "        best_knn_f1 = f1\n",
    "        best_knn_model = knn\n",
    "        best_knn_acc = acc"
   ]
  },
  {
   "cell_type": "code",
   "execution_count": 33,
   "metadata": {},
   "outputs": [
    {
     "name": "stdout",
     "output_type": "stream",
     "text": [
      "Decision Tree (max_depth=3) - Accuracy: 0.6948, F1 Score: 0.3733\n",
      "Decision Tree (max_depth=5) - Accuracy: 0.7922, F1 Score: 0.7037\n",
      "Decision Tree (max_depth=7) - Accuracy: 0.7662, F1 Score: 0.5909\n"
     ]
    }
   ],
   "source": [
    "best_dt_f1 = 0\n",
    "best_dt_model = None\n",
    "best_dt_acc = 0\n",
    "for depth in [3, 5, 7]:\n",
    "    dt = DecisionTreeClassifier(max_depth=depth, random_state=42)\n",
    "    dt.fit(X_train, y_train)\n",
    "    y_pred = dt.predict(X_val)\n",
    "    f1 = f1_score(y_val, y_pred)\n",
    "    acc = accuracy_score(y_val, y_pred)\n",
    "    print(f\"Decision Tree (max_depth={depth}) - Accuracy: {acc:.4f}, F1 Score: {f1:.4f}\")\n",
    "    if f1 > best_dt_f1:\n",
    "        best_dt_f1 = f1\n",
    "        best_dt_model = dt\n",
    "        best_dt_acc = acc"
   ]
  },
  {
   "cell_type": "code",
   "execution_count": 34,
   "metadata": {},
   "outputs": [
    {
     "data": {
      "text/plain": [
       "['best_model.pkl']"
      ]
     },
     "execution_count": 34,
     "metadata": {},
     "output_type": "execute_result"
    }
   ],
   "source": [
    "best_model = best_knn_model if best_knn_f1 > best_dt_f1 else best_dt_model\n",
    "\n",
    "# Save preprocessing and model\n",
    "joblib.dump(scaler, \"scaler.pkl\")\n",
    "joblib.dump(one_hot_encoder, \"one_hot_encoder.pkl\")\n",
    "joblib.dump(best_model, \"best_model.pkl\")"
   ]
  },
  {
   "cell_type": "code",
   "execution_count": 35,
   "metadata": {},
   "outputs": [],
   "source": [
    "def predict_sample(sample):\n",
    "    # Load preprocessing and model\n",
    "    scaler = joblib.load(\"scaler.pkl\")\n",
    "    encoder = joblib.load(\"one_hot_encoder.pkl\")\n",
    "    model = joblib.load(\"best_model.pkl\")\n",
    "    \n",
    "    # Process input\n",
    "    sample_df = pd.DataFrame([sample])\n",
    "    sample_df[\"BMI_category\"] = sample_df[\"BMI\"].apply(categorize_bmi)\n",
    "    \n",
    "    transformed_sample = preprocessor.transform(sample_df)\n",
    "    \n",
    "    # Predict\n",
    "    prediction = model.predict(transformed_sample)\n",
    "    return prediction[0]"
   ]
  },
  {
   "cell_type": "code",
   "execution_count": 36,
   "metadata": {},
   "outputs": [
    {
     "name": "stdout",
     "output_type": "stream",
     "text": [
      "Predicted Class: 1\n",
      "Predicted Class: 1\n",
      "Predicted Class: 1\n",
      "Predicted Class: 0\n",
      "Predicted Class: 0\n"
     ]
    }
   ],
   "source": [
    "sample_data = val_data.sample(5, random_state=42).drop(columns=[\"Outcome\"])\n",
    "for _, row in sample_data.iterrows():\n",
    "    print(f\"Predicted Class: {predict_sample(row.to_dict())}\")\n"
   ]
  }
 ],
 "metadata": {
  "kernelspec": {
   "display_name": "base",
   "language": "python",
   "name": "python3"
  },
  "language_info": {
   "codemirror_mode": {
    "name": "ipython",
    "version": 3
   },
   "file_extension": ".py",
   "mimetype": "text/x-python",
   "name": "python",
   "nbconvert_exporter": "python",
   "pygments_lexer": "ipython3",
   "version": "3.9.13"
  }
 },
 "nbformat": 4,
 "nbformat_minor": 2
}
