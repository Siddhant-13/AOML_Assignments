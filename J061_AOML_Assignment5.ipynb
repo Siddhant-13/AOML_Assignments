{
  "cells": [
    {
      "cell_type": "code",
      "execution_count": 16,
      "metadata": {
        "id": "ef9xqz-4QSb9"
      },
      "outputs": [],
      "source": [
        "import pandas as pd\n",
        "import numpy as np\n",
        "from sklearn.model_selection import train_test_split\n",
        "from sklearn.metrics import accuracy_score"
      ]
    },
    {
      "cell_type": "code",
      "execution_count": 17,
      "metadata": {
        "id": "gcSzqOkNQtER"
      },
      "outputs": [],
      "source": [
        "data = pd.read_csv(\"spam.csv\", encoding=\"latin-1\").iloc[:, :2]"
      ]
    },
    {
      "cell_type": "code",
      "execution_count": 18,
      "metadata": {
        "colab": {
          "base_uri": "https://localhost:8080/"
        },
        "id": "xNBdwgbMQ61x",
        "outputId": "32fba532-3630-4433-cb42-7dd26c81e199"
      },
      "outputs": [
        {
          "name": "stdout",
          "output_type": "stream",
          "text": [
            "      label                                               text\n",
            "0         0  Go until jurong point, crazy.. Available only ...\n",
            "1         0                      Ok lar... Joking wif u oni...\n",
            "2         1  Free entry in 2 a wkly comp to win FA Cup fina...\n",
            "3         0  U dun say so early hor... U c already then say...\n",
            "4         0  Nah I don't think he goes to usf, he lives aro...\n",
            "...     ...                                                ...\n",
            "5567      1  This is the 2nd time we have tried 2 contact u...\n",
            "5568      0              Will Ì_ b going to esplanade fr home?\n",
            "5569      0  Pity, * was in mood for that. So...any other s...\n",
            "5570      0  The guy did some bitching but I acted like i'd...\n",
            "5571      0                         Rofl. Its true to its name\n",
            "\n",
            "[5572 rows x 2 columns]\n"
          ]
        }
      ],
      "source": [
        "data.columns = ['label', 'text']\n",
        "data.dropna(subset=['text'], inplace=True)\n",
        "data['label'] = data['label'].map({'ham': 0, 'spam': 1})\n",
        "print(data)"
      ]
    },
    {
      "cell_type": "code",
      "execution_count": 19,
      "metadata": {
        "id": "BGkU2JwRRAw9"
      },
      "outputs": [],
      "source": [
        "import re\n",
        "import string\n",
        "def clean_text(text):\n",
        "    if not isinstance(text, str):\n",
        "        return \"\"\n",
        "    text = text.lower()\n",
        "    text = re.sub(f\"[{string.punctuation}]\", \"\", text)\n",
        "    words = text.split()\n",
        "    words = [word for word in words if len(word) > 2]  # Remove very short words\n",
        "    return \" \".join(words)"
      ]
    },
    {
      "cell_type": "code",
      "execution_count": 20,
      "metadata": {
        "colab": {
          "base_uri": "https://localhost:8080/"
        },
        "id": "6dH_BWbfREKo",
        "outputId": "d8740660-1ec4-4158-daab-e005a35b501c"
      },
      "outputs": [
        {
          "name": "stdout",
          "output_type": "stream",
          "text": [
            "      label                                               text  \\\n",
            "0         0  Go until jurong point, crazy.. Available only ...   \n",
            "1         0                      Ok lar... Joking wif u oni...   \n",
            "2         1  Free entry in 2 a wkly comp to win FA Cup fina...   \n",
            "3         0  U dun say so early hor... U c already then say...   \n",
            "4         0  Nah I don't think he goes to usf, he lives aro...   \n",
            "...     ...                                                ...   \n",
            "5567      1  This is the 2nd time we have tried 2 contact u...   \n",
            "5568      0              Will Ì_ b going to esplanade fr home?   \n",
            "5569      0  Pity, * was in mood for that. So...any other s...   \n",
            "5570      0  The guy did some bitching but I acted like i'd...   \n",
            "5571      0                         Rofl. Its true to its name   \n",
            "\n",
            "                                             clean_text  \n",
            "0     until jurong point crazy available only bugis ...  \n",
            "1                                    lar joking wif oni  \n",
            "2     free entry wkly comp win cup final tkts 21st m...  \n",
            "3                    dun say early hor already then say  \n",
            "4      nah dont think goes usf lives around here though  \n",
            "...                                                 ...  \n",
            "5567  this the 2nd time have tried contact have won ...  \n",
            "5568                          will going esplanade home  \n",
            "5569     pity was mood for that soany other suggestions  \n",
            "5570  the guy did some bitching but acted like inter...  \n",
            "5571                             rofl its true its name  \n",
            "\n",
            "[5572 rows x 3 columns]\n"
          ]
        }
      ],
      "source": [
        "data['clean_text'] = data['text'].apply(clean_text)\n",
        "print(data)"
      ]
    },
    {
      "cell_type": "code",
      "execution_count": null,
      "metadata": {
        "id": "fLiS9va6RIpe"
      },
      "outputs": [],
      "source": [
        "from sklearn.feature_extraction.text import TfidfVectorizer\n",
        "X_train_raw, X_test_raw, y_train, y_test = train_test_split(data['text'], data['label'], test_size=0.2, random_state=42)\n",
        "X_train_clean, X_test_clean, y_train, y_test = train_test_split(data['clean_text'], data['label'], test_size=0.2, random_state=42)"
      ]
    },
    {
      "cell_type": "code",
      "execution_count": 22,
      "metadata": {
        "id": "o0KcsJXGRPH2"
      },
      "outputs": [],
      "source": [
        "from sklearn.model_selection import train_test_split\n",
        "vectorizer = TfidfVectorizer()\n",
        "X_train_vec = vectorizer.fit_transform(X_train_clean)\n",
        "X_test_vec = vectorizer.transform(X_test_clean)"
      ]
    },
    {
      "cell_type": "code",
      "execution_count": 23,
      "metadata": {
        "id": "tVVALILkRUU8"
      },
      "outputs": [],
      "source": [
        "from sklearn.naive_bayes import MultinomialNB\n",
        "from sklearn.ensemble import RandomForestClassifier, VotingClassifier\n",
        "from xgboost import XGBClassifier\n",
        "models = {\n",
        "    'NaiveBayes': MultinomialNB(),\n",
        "    'RandomForest': RandomForestClassifier(n_estimators=100, random_state=42),\n",
        "    'XGBoost': XGBClassifier(use_label_encoder=False, eval_metric='logloss')\n",
        "}"
      ]
    },
    {
      "cell_type": "code",
      "execution_count": 24,
      "metadata": {
        "colab": {
          "base_uri": "https://localhost:8080/",
          "height": 327
        },
        "id": "4Js_7szPRXgE",
        "outputId": "7d9f348c-6981-4d8e-cdaa-3c626f4eaf12"
      },
      "outputs": [
        {
          "name": "stdout",
          "output_type": "stream",
          "text": [
            "NaiveBayes Accuracy: 0.9596\n",
            "RandomForest Accuracy: 0.9686\n"
          ]
        },
        {
          "name": "stderr",
          "output_type": "stream",
          "text": [
            "c:\\Users\\siddh\\Downloads\\New folder\\lib\\site-packages\\xgboost\\core.py:158: UserWarning: [23:26:34] WARNING: C:\\buildkite-agent\\builds\\buildkite-windows-cpu-autoscaling-group-i-08cbc0333d8d4aae1-1\\xgboost\\xgboost-ci-windows\\src\\learner.cc:740: \n",
            "Parameters: { \"use_label_encoder\" } are not used.\n",
            "\n",
            "  warnings.warn(smsg, UserWarning)\n"
          ]
        },
        {
          "name": "stdout",
          "output_type": "stream",
          "text": [
            "XGBoost Accuracy: 0.9722\n"
          ]
        },
        {
          "name": "stderr",
          "output_type": "stream",
          "text": [
            "c:\\Users\\siddh\\Downloads\\New folder\\lib\\site-packages\\xgboost\\core.py:158: UserWarning: [23:26:36] WARNING: C:\\buildkite-agent\\builds\\buildkite-windows-cpu-autoscaling-group-i-08cbc0333d8d4aae1-1\\xgboost\\xgboost-ci-windows\\src\\learner.cc:740: \n",
            "Parameters: { \"use_label_encoder\" } are not used.\n",
            "\n",
            "  warnings.warn(smsg, UserWarning)\n"
          ]
        },
        {
          "data": {
            "text/plain": [
              "VotingClassifier(estimators=[('NB', MultinomialNB()),\n",
              "                             ('RF', RandomForestClassifier(random_state=42)),\n",
              "                             ('XGB',\n",
              "                              XGBClassifier(base_score=None, booster=None,\n",
              "                                            callbacks=None,\n",
              "                                            colsample_bylevel=None,\n",
              "                                            colsample_bynode=None,\n",
              "                                            colsample_bytree=None, device=None,\n",
              "                                            early_stopping_rounds=None,\n",
              "                                            enable_categorical=False,\n",
              "                                            eval_metric='logloss',\n",
              "                                            feature_types=None, gamma=None,\n",
              "                                            grow_policy=None,\n",
              "                                            importance_type=None,\n",
              "                                            interaction_constraints=None,\n",
              "                                            learning_rate=None, max_bin=None,\n",
              "                                            max_cat_threshold=None,\n",
              "                                            max_cat_to_onehot=None,\n",
              "                                            max_delta_step=None, max_depth=None,\n",
              "                                            max_leaves=None,\n",
              "                                            min_child_weight=None, missing=nan,\n",
              "                                            monotone_constraints=None,\n",
              "                                            multi_strategy=None,\n",
              "                                            n_estimators=None, n_jobs=None,\n",
              "                                            num_parallel_tree=None,\n",
              "                                            random_state=None, ...))])"
            ]
          },
          "execution_count": 24,
          "metadata": {},
          "output_type": "execute_result"
        }
      ],
      "source": [
        "for model_name, model in models.items():\n",
        "    model.fit(X_train_vec, y_train)\n",
        "    y_pred = model.predict(X_test_vec)\n",
        "    acc = accuracy_score(y_test, y_pred)\n",
        "    print(f\"{model_name} Accuracy: {acc:.4f}\")\n",
        "\n",
        "ensemble_model = VotingClassifier(\n",
        "    estimators=[('NB', MultinomialNB()), ('RF', RandomForestClassifier(n_estimators=100, random_state=42)), ('XGB', XGBClassifier(use_label_encoder=False, eval_metric='logloss'))],\n",
        "    voting='hard'\n",
        ")\n",
        "ensemble_model.fit(X_train_vec, y_train)"
      ]
    },
    {
      "cell_type": "code",
      "execution_count": 25,
      "metadata": {
        "colab": {
          "base_uri": "https://localhost:8080/"
        },
        "id": "WY_Mhee4Rayh",
        "outputId": "b7ae2c05-fc03-413e-d749-fc20843b89d7"
      },
      "outputs": [
        {
          "data": {
            "text/plain": [
              "0.967713004484305"
            ]
          },
          "execution_count": 25,
          "metadata": {},
          "output_type": "execute_result"
        }
      ],
      "source": [
        "from sklearn.metrics import accuracy_score\n",
        "y_pred_ensemble = ensemble_model.predict(X_test_vec)\n",
        "accuracy_score(y_test, y_pred_ensemble)\n"
      ]
    },
    {
      "cell_type": "code",
      "execution_count": null,
      "metadata": {
        "id": "GvxVXhu6Rl_8"
      },
      "outputs": [],
      "source": []
    }
  ],
  "metadata": {
    "colab": {
      "provenance": []
    },
    "kernelspec": {
      "display_name": "base",
      "language": "python",
      "name": "python3"
    },
    "language_info": {
      "codemirror_mode": {
        "name": "ipython",
        "version": 3
      },
      "file_extension": ".py",
      "mimetype": "text/x-python",
      "name": "python",
      "nbconvert_exporter": "python",
      "pygments_lexer": "ipython3",
      "version": "3.9.13"
    }
  },
  "nbformat": 4,
  "nbformat_minor": 0
}
