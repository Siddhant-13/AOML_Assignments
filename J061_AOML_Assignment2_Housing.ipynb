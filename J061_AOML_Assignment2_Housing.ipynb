{
  "nbformat": 4,
  "nbformat_minor": 0,
  "metadata": {
    "colab": {
      "provenance": []
    },
    "kernelspec": {
      "name": "python3",
      "display_name": "Python 3"
    },
    "language_info": {
      "name": "python"
    }
  },
  "cells": [
    {
      "cell_type": "code",
      "execution_count": 3,
      "metadata": {
        "id": "JBtm1cHo2nuA"
      },
      "outputs": [],
      "source": [
        "import numpy as np\n",
        "import pandas as pd\n",
        "from sklearn.model_selection import StratifiedShuffleSplit\n",
        "from sklearn.linear_model import Ridge, Lasso\n",
        "from sklearn.metrics import mean_absolute_error, mean_squared_error\n",
        "from sklearn.preprocessing import StandardScaler"
      ]
    },
    {
      "cell_type": "code",
      "source": [
        "data = pd.read_csv('housing.csv')"
      ],
      "metadata": {
        "id": "2vUXhjGM7POx"
      },
      "execution_count": 4,
      "outputs": []
    },
    {
      "cell_type": "code",
      "source": [
        "data = data.dropna()"
      ],
      "metadata": {
        "id": "8bIVDXZr7iVy"
      },
      "execution_count": 5,
      "outputs": []
    },
    {
      "cell_type": "code",
      "source": [
        "data = pd.get_dummies(data, columns=['ocean_proximity'])"
      ],
      "metadata": {
        "id": "0VO26ofI7iYk"
      },
      "execution_count": 6,
      "outputs": []
    },
    {
      "cell_type": "code",
      "source": [
        "target = 'median_house_value'"
      ],
      "metadata": {
        "id": "XUlMI2YO7ibe"
      },
      "execution_count": 7,
      "outputs": []
    },
    {
      "cell_type": "code",
      "source": [
        "X = data.drop(target, axis=1)\n",
        "y = data[target]"
      ],
      "metadata": {
        "id": "1FCbCMgz7ieR"
      },
      "execution_count": 8,
      "outputs": []
    },
    {
      "cell_type": "code",
      "source": [
        "n = len(data)\n",
        "k = int(np.ceil(1 + 3.322 * np.log10(n)))"
      ],
      "metadata": {
        "id": "2RFOCUII7ihF"
      },
      "execution_count": 9,
      "outputs": []
    },
    {
      "cell_type": "code",
      "source": [
        "y_binned = pd.cut(y, bins=k, labels=False)"
      ],
      "metadata": {
        "id": "NSlpkToA7ijp"
      },
      "execution_count": 10,
      "outputs": []
    },
    {
      "cell_type": "code",
      "source": [
        "split = StratifiedShuffleSplit(n_splits=1, test_size=0.2, random_state=42)\n",
        "for train_index, test_index in split.split(X, y_binned):\n",
        "    X_train, X_test = X.iloc[train_index], X.iloc[test_index]\n",
        "    y_train, y_test = y.iloc[train_index], y.iloc[test_index]"
      ],
      "metadata": {
        "id": "24lIklD57im7"
      },
      "execution_count": 11,
      "outputs": []
    },
    {
      "cell_type": "code",
      "source": [
        "scaler = StandardScaler()\n",
        "X_train_scaled = scaler.fit_transform(X_train)\n",
        "X_test_scaled = scaler.transform(X_test)"
      ],
      "metadata": {
        "id": "Dmk7I9Wl7iqg"
      },
      "execution_count": 12,
      "outputs": []
    },
    {
      "cell_type": "code",
      "source": [
        "ridge = Ridge(alpha=1.0)\n",
        "ridge.fit(X_train_scaled, y_train)\n",
        "ridge_predictions = ridge.predict(X_test_scaled)"
      ],
      "metadata": {
        "id": "VyRqlwLe772j"
      },
      "execution_count": 13,
      "outputs": []
    },
    {
      "cell_type": "code",
      "source": [
        "ridge_mae = mean_absolute_error(y_test, ridge_predictions)\n",
        "ridge_mse = mean_squared_error(y_test, ridge_predictions)\n",
        "ridge_rmse = np.sqrt(ridge_mse)"
      ],
      "metadata": {
        "id": "vcuIFu8Y7_Ou"
      },
      "execution_count": 14,
      "outputs": []
    },
    {
      "cell_type": "code",
      "source": [
        "lasso = Lasso(alpha=1.0)\n",
        "lasso.fit(X_train_scaled, y_train)\n",
        "lasso_predictions = lasso.predict(X_test_scaled)"
      ],
      "metadata": {
        "colab": {
          "base_uri": "https://localhost:8080/"
        },
        "id": "NcLgDRRx7_Rc",
        "outputId": "f6596580-cfb6-41a7-ee52-9e5c3f86052e"
      },
      "execution_count": 15,
      "outputs": [
        {
          "output_type": "stream",
          "name": "stderr",
          "text": [
            "/usr/local/lib/python3.11/dist-packages/sklearn/linear_model/_coordinate_descent.py:695: ConvergenceWarning: Objective did not converge. You might want to increase the number of iterations, check the scale of the features or consider increasing regularisation. Duality gap: 2.436e+12, tolerance: 2.178e+10\n",
            "  model = cd_fast.enet_coordinate_descent(\n"
          ]
        }
      ]
    },
    {
      "cell_type": "code",
      "source": [
        "lasso_mae = mean_absolute_error(y_test, lasso_predictions)\n",
        "lasso_mse = mean_squared_error(y_test, lasso_predictions)\n",
        "lasso_rmse = np.sqrt(lasso_mse)"
      ],
      "metadata": {
        "id": "zfwSXq2H7_UG"
      },
      "execution_count": 16,
      "outputs": []
    },
    {
      "cell_type": "code",
      "source": [
        "print('Ridge Regression:')\n",
        "print(f'  MAE: {ridge_mae:.2f}')\n",
        "print(f'  MSE: {ridge_mse:.2f}')\n",
        "print(f'  RMSE: {ridge_rmse:.2f}')\n",
        "\n",
        "print('\\nLasso Regression:')\n",
        "print(f'  MAE: {lasso_mae:.2f}')\n",
        "print(f'  MSE: {lasso_mse:.2f}')\n",
        "print(f'  RMSE: {lasso_rmse:.2f}')\n"
      ],
      "metadata": {
        "colab": {
          "base_uri": "https://localhost:8080/"
        },
        "id": "2v9hcXLG7_XB",
        "outputId": "acbeef52-d51b-44a8-90db-9f4b3b9fb79e"
      },
      "execution_count": 17,
      "outputs": [
        {
          "output_type": "stream",
          "name": "stdout",
          "text": [
            "Ridge Regression:\n",
            "  MAE: 50398.54\n",
            "  MSE: 5000624440.74\n",
            "  RMSE: 70715.09\n",
            "\n",
            "Lasso Regression:\n",
            "  MAE: 50399.27\n",
            "  MSE: 5000756302.84\n",
            "  RMSE: 70716.03\n"
          ]
        }
      ]
    },
    {
      "cell_type": "markdown",
      "source": [
        "# Ridge vs. Lasso Regression Evaluation\n",
        "\n",
        "## Ridge Regression (Lower Errors)\n",
        "- **MAE:** 50,398.54  \n",
        "- **MSE:** 5,000,624,440.74  \n",
        "- **RMSE:** 70,715.09  \n",
        "\n",
        "## Lasso Regression (Higher Errors)\n",
        "- **MAE:** 50,399.27  \n",
        "- **MSE:** 5,000,756,302.84  \n",
        "- **RMSE:** 70,716.03  \n",
        "\n",
        "## Key Observations\n",
        "1. **Ridge performed slightly better** due to minimal differences in errors.\n",
        "2. **Lasso had marginally higher errors**, likely due to feature elimination.\n",
        "3. **Use Ridge for better accuracy**; use Lasso for feature selection.\n",
        "\n",
        "### Conclusion\n",
        "Ridge is slightly preferred due to better performance, but both models are effective with minimal differences."
      ],
      "metadata": {
        "id": "t5zpmMu-5YBN"
      }
    },
    {
      "cell_type": "code",
      "source": [],
      "metadata": {
        "id": "8kbfpeoJ2-i6"
      },
      "execution_count": null,
      "outputs": []
    }
  ]
}